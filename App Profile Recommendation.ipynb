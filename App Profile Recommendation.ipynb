{
 "cells": [
  {
   "cell_type": "markdown",
   "metadata": {},
   "source": [
    "# Profitable App Profiles for the App Store and Google Play Markets\n",
    "\n",
    "The aim of this project is to find the type of apps that are most likely to attract (new) users and are therefore attractive for developers that rely on mobile ad revenue."
   ]
  },
  {
   "cell_type": "markdown",
   "metadata": {},
   "source": [
    "### Opening and exploring the data"
   ]
  },
  {
   "cell_type": "code",
   "execution_count": 1,
   "metadata": {
    "collapsed": true
   },
   "outputs": [],
   "source": [
    "from csv import reader\n",
    "\n",
    "open_file = open('AppleStore.csv')\n",
    "read_file = reader(open_file)\n",
    "AppleStore = list(read_file)\n",
    "\n",
    "open_file = open('googleplaystore.csv')\n",
    "read_file = reader(open_file)\n",
    "GooglePlayStore = list(read_file)"
   ]
  },
  {
   "cell_type": "code",
   "execution_count": 2,
   "metadata": {
    "collapsed": true
   },
   "outputs": [],
   "source": [
    "def explore_data(dataset, start, end, rows_and_columns=False):\n",
    "    dataset_slice = dataset[start:end]    \n",
    "    for row in dataset_slice:\n",
    "        print(row)\n",
    "        print('\\n') # adds a new (empty) line after each row\n",
    "\n",
    "    if rows_and_columns:\n",
    "        print('Number of rows:', len(dataset))\n",
    "        print('Number of columns:', len(dataset[0]))"
   ]
  },
  {
   "cell_type": "code",
   "execution_count": 3,
   "metadata": {
    "collapsed": false
   },
   "outputs": [
    {
     "name": "stdout",
     "output_type": "stream",
     "text": [
      "['id', 'track_name', 'size_bytes', 'currency', 'price', 'rating_count_tot', 'rating_count_ver', 'user_rating', 'user_rating_ver', 'ver', 'cont_rating', 'prime_genre', 'sup_devices.num', 'ipadSc_urls.num', 'lang.num', 'vpp_lic']\n",
      "\n",
      "\n",
      "['284882215', 'Facebook', '389879808', 'USD', '0.0', '2974676', '212', '3.5', '3.5', '95.0', '4+', 'Social Networking', '37', '1', '29', '1']\n",
      "\n",
      "\n",
      "Number of rows: 7198\n",
      "Number of columns: 16\n"
     ]
    }
   ],
   "source": [
    "explore_data(AppleStore,0,2,True)"
   ]
  },
  {
   "cell_type": "code",
   "execution_count": 4,
   "metadata": {
    "collapsed": false
   },
   "outputs": [
    {
     "name": "stdout",
     "output_type": "stream",
     "text": [
      "['App', 'Category', 'Rating', 'Reviews', 'Size', 'Installs', 'Type', 'Price', 'Content Rating', 'Genres', 'Last Updated', 'Current Ver', 'Android Ver']\n",
      "\n",
      "\n",
      "['Photo Editor & Candy Camera & Grid & ScrapBook', 'ART_AND_DESIGN', '4.1', '159', '19M', '10,000+', 'Free', '0', 'Everyone', 'Art & Design', 'January 7, 2018', '1.0.0', '4.0.3 and up']\n",
      "\n",
      "\n",
      "Number of rows: 10842\n",
      "Number of columns: 13\n"
     ]
    }
   ],
   "source": [
    "explore_data(GooglePlayStore,0,2,True)"
   ]
  },
  {
   "cell_type": "markdown",
   "metadata": {},
   "source": [
    "### Data cleaning"
   ]
  },
  {
   "cell_type": "code",
   "execution_count": 5,
   "metadata": {
    "collapsed": false
   },
   "outputs": [
    {
     "name": "stdout",
     "output_type": "stream",
     "text": [
      "['Life Made WI-Fi Touchscreen Photo Frame', '1.9', '19', '3.0M', '1,000+', 'Free', '0', 'Everyone', '', 'February 11, 2018', '1.0.19', '4.0 and up']\n"
     ]
    }
   ],
   "source": [
    "print(GooglePlayStore[10473])"
   ]
  },
  {
   "cell_type": "code",
   "execution_count": 6,
   "metadata": {
    "collapsed": true
   },
   "outputs": [],
   "source": [
    "del GooglePlayStore[10473]"
   ]
  },
  {
   "cell_type": "markdown",
   "metadata": {},
   "source": [
    "Upon investigation of the Google Play Store dataset, a number of duplicate apps were discovered. Instagram, for example, appears for times:"
   ]
  },
  {
   "cell_type": "code",
   "execution_count": 7,
   "metadata": {
    "collapsed": false
   },
   "outputs": [
    {
     "name": "stdout",
     "output_type": "stream",
     "text": [
      "['Instagram', 'SOCIAL', '4.5', '66577313', 'Varies with device', '1,000,000,000+', 'Free', '0', 'Teen', 'Social', 'July 31, 2018', 'Varies with device', 'Varies with device']\n",
      "['Instagram', 'SOCIAL', '4.5', '66577446', 'Varies with device', '1,000,000,000+', 'Free', '0', 'Teen', 'Social', 'July 31, 2018', 'Varies with device', 'Varies with device']\n",
      "['Instagram', 'SOCIAL', '4.5', '66577313', 'Varies with device', '1,000,000,000+', 'Free', '0', 'Teen', 'Social', 'July 31, 2018', 'Varies with device', 'Varies with device']\n",
      "['Instagram', 'SOCIAL', '4.5', '66509917', 'Varies with device', '1,000,000,000+', 'Free', '0', 'Teen', 'Social', 'July 31, 2018', 'Varies with device', 'Varies with device']\n"
     ]
    }
   ],
   "source": [
    "for app in GooglePlayStore[1:]:\n",
    "    name = app[0]\n",
    "    if name == 'Instagram':\n",
    "        print(app)"
   ]
  },
  {
   "cell_type": "markdown",
   "metadata": {},
   "source": [
    "Looking further into this issue, it appears that the data was collected at different points in time as indicated by the increasing number of reviews. A higher number of reviews would suggest that the data is more up-to-date. Hence, we will use the most recent entry for our analysis whilst removing the old data."
   ]
  },
  {
   "cell_type": "code",
   "execution_count": 8,
   "metadata": {
    "collapsed": true
   },
   "outputs": [],
   "source": [
    "GooglePlayStore_duplicates = []\n",
    "GooglePlayStore_unique = []\n",
    "\n",
    "for app in GooglePlayStore[1:]:\n",
    "    name = app[0]\n",
    "    if name in GooglePlayStore_unique:\n",
    "        GooglePlayStore_unique.append(name)\n",
    "    else:\n",
    "        GooglePlayStore_duplicates.append(name)"
   ]
  },
  {
   "cell_type": "code",
   "execution_count": 9,
   "metadata": {
    "collapsed": false
   },
   "outputs": [],
   "source": [
    "reviews_max = {}\n",
    "\n",
    "for app in GooglePlayStore[1:]:\n",
    "    name = app[0]\n",
    "    n_reviews = float(app[3])\n",
    "    if name in reviews_max and reviews_max[name] < n_reviews:\n",
    "        reviews_max[name] = n_reviews\n",
    "    elif name not in reviews_max:\n",
    "        reviews_max[name] = n_reviews"
   ]
  },
  {
   "cell_type": "code",
   "execution_count": 10,
   "metadata": {
    "collapsed": false
   },
   "outputs": [],
   "source": [
    "android_clean = []\n",
    "already_added = []\n",
    "\n",
    "for app in GooglePlayStore[1:]:\n",
    "    name = app[0]\n",
    "    n_reviews = float(app[3])\n",
    "    if n_reviews == reviews_max[name] and name not in already_added:\n",
    "        android_clean.append(app)\n",
    "        already_added.append(name)"
   ]
  },
  {
   "cell_type": "code",
   "execution_count": 11,
   "metadata": {
    "collapsed": false
   },
   "outputs": [
    {
     "name": "stdout",
     "output_type": "stream",
     "text": [
      "['Photo Editor & Candy Camera & Grid & ScrapBook', 'ART_AND_DESIGN', '4.1', '159', '19M', '10,000+', 'Free', '0', 'Everyone', 'Art & Design', 'January 7, 2018', '1.0.0', '4.0.3 and up']\n",
      "\n",
      "\n",
      "['U Launcher Lite – FREE Live Cool Themes, Hide Apps', 'ART_AND_DESIGN', '4.7', '87510', '8.7M', '5,000,000+', 'Free', '0', 'Everyone', 'Art & Design', 'August 1, 2018', '1.2.4', '4.0.3 and up']\n",
      "\n",
      "\n",
      "Number of rows: 9659\n",
      "Number of columns: 13\n"
     ]
    }
   ],
   "source": [
    "explore_data(android_clean,0,2,True)"
   ]
  },
  {
   "cell_type": "code",
   "execution_count": 12,
   "metadata": {
    "collapsed": true
   },
   "outputs": [],
   "source": [
    "def english_language(string):\n",
    "    non_english = 0\n",
    "    \n",
    "    for character in string:\n",
    "        if ord(character) > 127:\n",
    "            non_english += 1\n",
    "    \n",
    "    if non_english > 3:\n",
    "        return False\n",
    "    else:\n",
    "        return True"
   ]
  },
  {
   "cell_type": "code",
   "execution_count": 13,
   "metadata": {
    "collapsed": false
   },
   "outputs": [],
   "source": [
    "android_english = []\n",
    "ios_english = []\n",
    "\n",
    "for app in android_clean[1:]:\n",
    "    name = app[0]\n",
    "    if english_language(name):\n",
    "        android_english.append(app)\n",
    "        \n",
    "for app in AppleStore[1:]:\n",
    "    name = app[1]\n",
    "    if english_language(name):\n",
    "        ios_english.append(app)"
   ]
  },
  {
   "cell_type": "code",
   "execution_count": 14,
   "metadata": {
    "collapsed": false
   },
   "outputs": [
    {
     "name": "stdout",
     "output_type": "stream",
     "text": [
      "['U Launcher Lite – FREE Live Cool Themes, Hide Apps', 'ART_AND_DESIGN', '4.7', '87510', '8.7M', '5,000,000+', 'Free', '0', 'Everyone', 'Art & Design', 'August 1, 2018', '1.2.4', '4.0.3 and up']\n",
      "\n",
      "\n",
      "['Sketch - Draw & Paint', 'ART_AND_DESIGN', '4.5', '215644', '25M', '50,000,000+', 'Free', '0', 'Teen', 'Art & Design', 'June 8, 2018', 'Varies with device', '4.2 and up']\n",
      "\n",
      "\n",
      "Number of rows: 9613\n",
      "Number of columns: 13\n"
     ]
    }
   ],
   "source": [
    "explore_data(android_english,0,2,True)"
   ]
  },
  {
   "cell_type": "code",
   "execution_count": 15,
   "metadata": {
    "collapsed": false
   },
   "outputs": [
    {
     "name": "stdout",
     "output_type": "stream",
     "text": [
      "['284882215', 'Facebook', '389879808', 'USD', '0.0', '2974676', '212', '3.5', '3.5', '95.0', '4+', 'Social Networking', '37', '1', '29', '1']\n",
      "\n",
      "\n",
      "['389801252', 'Instagram', '113954816', 'USD', '0.0', '2161558', '1289', '4.5', '4.0', '10.23', '12+', 'Photo & Video', '37', '0', '29', '1']\n",
      "\n",
      "\n",
      "Number of rows: 6183\n",
      "Number of columns: 16\n"
     ]
    }
   ],
   "source": [
    "explore_data(ios_english,0,2,True)"
   ]
  },
  {
   "cell_type": "code",
   "execution_count": 16,
   "metadata": {
    "collapsed": false
   },
   "outputs": [
    {
     "name": "stdout",
     "output_type": "stream",
     "text": [
      "8862\n",
      "3221\n"
     ]
    }
   ],
   "source": [
    "android_final = []\n",
    "ios_final = []\n",
    "\n",
    "for app in android_english[1:]:\n",
    "    price = app[7]\n",
    "    if price == '0':\n",
    "        android_final.append(app)\n",
    "        \n",
    "for app in ios_english[1:]:\n",
    "    price = app[4]\n",
    "    if price == '0.0':\n",
    "        ios_final.append(app)\n",
    "\n",
    "print(len(android_final))\n",
    "print(len(ios_final))"
   ]
  },
  {
   "cell_type": "markdown",
   "metadata": {},
   "source": [
    "### Data Analysis\n",
    "\n",
    "Our aim is it to find app profiles that are successfull in both environments, i.e. Google Play Store and the Apple App Store."
   ]
  },
  {
   "cell_type": "code",
   "execution_count": 17,
   "metadata": {
    "collapsed": false
   },
   "outputs": [],
   "source": [
    "def freq_table(dataset, index):\n",
    "    table = {}\n",
    "    \n",
    "    for row in dataset:\n",
    "        value = row[index]\n",
    "        if value in table:\n",
    "            table[value] += 1\n",
    "        else:\n",
    "            table[value] = 1\n",
    "    \n",
    "    table_pct = {}\n",
    "                  \n",
    "    for key in table:\n",
    "        pct = (table[key] / (len(dataset) - 1)) * 100\n",
    "        table_pct[key] = pct\n",
    "\n",
    "    return table_pct"
   ]
  },
  {
   "cell_type": "code",
   "execution_count": 18,
   "metadata": {
    "collapsed": true
   },
   "outputs": [],
   "source": [
    "def display_table(dataset, index):\n",
    "    table = freq_table(dataset, index)\n",
    "    table_display = []\n",
    "    for key in table:\n",
    "        key_val_as_tuple = (table[key], key)\n",
    "        table_display.append(key_val_as_tuple)\n",
    "\n",
    "    table_sorted = sorted(table_display, reverse = True)\n",
    "    for entry in table_sorted:\n",
    "        print(entry[1], ':', entry[0])"
   ]
  },
  {
   "cell_type": "code",
   "execution_count": 19,
   "metadata": {
    "collapsed": false
   },
   "outputs": [
    {
     "name": "stdout",
     "output_type": "stream",
     "text": [
      "FAMILY : 18.91434375352669\n",
      "GAME : 9.728021667983297\n",
      "TOOLS : 8.46405597562352\n",
      "BUSINESS : 4.593161042771697\n",
      "LIFESTYLE : 3.9047511567543167\n",
      "PRODUCTIVITY : 3.8934657487868187\n",
      "FINANCE : 3.7016138133393524\n",
      "MEDICAL : 3.532332693826882\n",
      "SPORTS : 3.3969077982169056\n",
      "PERSONALIZATION : 3.317909942444419\n",
      "COMMUNICATION : 3.2389120866719328\n",
      "HEALTH_AND_FITNESS : 3.080916375126961\n",
      "PHOTOGRAPHY : 2.9454914795169844\n",
      "NEWS_AND_MAGAZINES : 2.7987811759395105\n",
      "SOCIAL : 2.663356280329534\n",
      "TRAVEL_AND_LOCAL : 2.3360794492720913\n",
      "SHOPPING : 2.245796185532107\n",
      "BOOKS_AND_REFERENCE : 2.144227513824625\n",
      "DATING : 1.8620923146371742\n",
      "VIDEO_PLAYERS : 1.794379866832186\n",
      "MAPS_AND_NAVIGATION : 1.3993905879697552\n",
      "FOOD_AND_DRINK : 1.2413948764247829\n",
      "EDUCATION : 1.1623970206522967\n",
      "ENTERTAINMENT : 0.9592596772373322\n",
      "LIBRARIES_AND_DEMO : 0.9366888613023362\n",
      "AUTO_AND_VEHICLES : 0.9254034533348381\n",
      "HOUSE_AND_HOME : 0.8238347816273558\n",
      "WEATHER : 0.8012639656923597\n",
      "EVENTS : 0.7109807019523756\n",
      "PARENTING : 0.6545536621148855\n",
      "COMICS : 0.6206974382123914\n",
      "ART_AND_DESIGN : 0.6206974382123914\n",
      "BEAUTY : 0.5981266222773953\n"
     ]
    }
   ],
   "source": [
    "display_table(android_final, 1) #category"
   ]
  },
  {
   "cell_type": "code",
   "execution_count": 20,
   "metadata": {
    "collapsed": false
   },
   "outputs": [
    {
     "name": "stdout",
     "output_type": "stream",
     "text": [
      "Tools : 8.452770567656021\n",
      "Entertainment : 6.071549486513937\n",
      "Education : 5.349283376594064\n",
      "Business : 4.593161042771697\n",
      "Productivity : 3.8934657487868187\n",
      "Lifestyle : 3.8934657487868187\n",
      "Finance : 3.7016138133393524\n",
      "Medical : 3.532332693826882\n",
      "Sports : 3.464620246021894\n",
      "Personalization : 3.317909942444419\n",
      "Communication : 3.2389120866719328\n",
      "Action : 3.103487191061957\n",
      "Health & Fitness : 3.080916375126961\n",
      "Photography : 2.9454914795169844\n",
      "News & Magazines : 2.7987811759395105\n",
      "Social : 2.663356280329534\n",
      "Travel & Local : 2.3247940413045933\n",
      "Shopping : 2.245796185532107\n",
      "Books & Reference : 2.144227513824625\n",
      "Simulation : 2.0426588421171425\n",
      "Dating : 1.8620923146371742\n",
      "Arcade : 1.8508069066696762\n",
      "Video Players & Editors : 1.7718090508971898\n",
      "Casual : 1.760523642929692\n",
      "Maps & Navigation : 1.3993905879697552\n",
      "Food & Drink : 1.2413948764247829\n",
      "Puzzle : 1.1285407967498025\n",
      "Racing : 0.9931159011398263\n",
      "Role Playing : 0.9366888613023362\n",
      "Libraries & Demo : 0.9366888613023362\n",
      "Auto & Vehicles : 0.9254034533348381\n",
      "Strategy : 0.91411804536734\n",
      "House & Home : 0.8238347816273558\n",
      "Weather : 0.8012639656923597\n",
      "Events : 0.7109807019523756\n",
      "Adventure : 0.6771244780498815\n",
      "Comics : 0.6094120302448933\n",
      "Beauty : 0.5981266222773953\n",
      "Art & Design : 0.5755558063423992\n",
      "Parenting : 0.49655795056991314\n",
      "Card : 0.45141631869992105\n",
      "Casino : 0.42884550276492495\n",
      "Trivia : 0.4175600947974269\n",
      "Educational;Education : 0.3949892788624309\n",
      "Board : 0.38370387089493285\n",
      "Educational : 0.3724184629274348\n",
      "Education;Education : 0.33856223902494076\n",
      "Word : 0.25956438325245457\n",
      "Casual;Pretend Play : 0.23699356731745852\n",
      "Music : 0.20313734341496445\n",
      "Racing;Action & Adventure : 0.16928111951247038\n",
      "Puzzle;Brain Games : 0.16928111951247038\n",
      "Entertainment;Music & Video : 0.16928111951247038\n",
      "Casual;Brain Games : 0.13542489560997628\n",
      "Casual;Action & Adventure : 0.13542489560997628\n",
      "Arcade;Action & Adventure : 0.12413948764247829\n",
      "Action;Action & Adventure : 0.10156867170748222\n",
      "Educational;Pretend Play : 0.0902832637399842\n",
      "Simulation;Action & Adventure : 0.07899785577248618\n",
      "Parenting;Education : 0.07899785577248618\n",
      "Entertainment;Brain Games : 0.07899785577248618\n",
      "Board;Brain Games : 0.07899785577248618\n",
      "Parenting;Music & Video : 0.06771244780498814\n",
      "Educational;Brain Games : 0.06771244780498814\n",
      "Casual;Creativity : 0.06771244780498814\n",
      "Art & Design;Creativity : 0.06771244780498814\n",
      "Education;Pretend Play : 0.05642703983749013\n",
      "Role Playing;Pretend Play : 0.0451416318699921\n",
      "Education;Creativity : 0.0451416318699921\n",
      "Role Playing;Action & Adventure : 0.03385622390249407\n",
      "Puzzle;Action & Adventure : 0.03385622390249407\n",
      "Entertainment;Creativity : 0.03385622390249407\n",
      "Entertainment;Action & Adventure : 0.03385622390249407\n",
      "Educational;Creativity : 0.03385622390249407\n",
      "Educational;Action & Adventure : 0.03385622390249407\n",
      "Education;Music & Video : 0.03385622390249407\n",
      "Education;Brain Games : 0.03385622390249407\n",
      "Education;Action & Adventure : 0.03385622390249407\n",
      "Adventure;Action & Adventure : 0.03385622390249407\n",
      "Video Players & Editors;Music & Video : 0.02257081593499605\n",
      "Sports;Action & Adventure : 0.02257081593499605\n",
      "Simulation;Pretend Play : 0.02257081593499605\n",
      "Puzzle;Creativity : 0.02257081593499605\n",
      "Music;Music & Video : 0.02257081593499605\n",
      "Entertainment;Pretend Play : 0.02257081593499605\n",
      "Casual;Education : 0.02257081593499605\n",
      "Board;Action & Adventure : 0.02257081593499605\n",
      "Video Players & Editors;Creativity : 0.011285407967498025\n",
      "Trivia;Education : 0.011285407967498025\n",
      "Travel & Local;Action & Adventure : 0.011285407967498025\n",
      "Tools;Education : 0.011285407967498025\n",
      "Strategy;Education : 0.011285407967498025\n",
      "Strategy;Creativity : 0.011285407967498025\n",
      "Strategy;Action & Adventure : 0.011285407967498025\n",
      "Simulation;Education : 0.011285407967498025\n",
      "Role Playing;Brain Games : 0.011285407967498025\n",
      "Racing;Pretend Play : 0.011285407967498025\n",
      "Puzzle;Education : 0.011285407967498025\n",
      "Parenting;Brain Games : 0.011285407967498025\n",
      "Music & Audio;Music & Video : 0.011285407967498025\n",
      "Lifestyle;Pretend Play : 0.011285407967498025\n",
      "Lifestyle;Education : 0.011285407967498025\n",
      "Health & Fitness;Education : 0.011285407967498025\n",
      "Health & Fitness;Action & Adventure : 0.011285407967498025\n",
      "Entertainment;Education : 0.011285407967498025\n",
      "Communication;Creativity : 0.011285407967498025\n",
      "Comics;Creativity : 0.011285407967498025\n",
      "Casual;Music & Video : 0.011285407967498025\n",
      "Card;Action & Adventure : 0.011285407967498025\n",
      "Books & Reference;Education : 0.011285407967498025\n",
      "Art & Design;Pretend Play : 0.011285407967498025\n",
      "Art & Design;Action & Adventure : 0.011285407967498025\n",
      "Arcade;Pretend Play : 0.011285407967498025\n",
      "Adventure;Education : 0.011285407967498025\n"
     ]
    }
   ],
   "source": [
    "display_table(android_final, -4) #genres"
   ]
  },
  {
   "cell_type": "code",
   "execution_count": 21,
   "metadata": {
    "collapsed": false
   },
   "outputs": [
    {
     "name": "stdout",
     "output_type": "stream",
     "text": [
      "Games : 58.19875776397515\n",
      "Entertainment : 7.888198757763975\n",
      "Photo & Video : 4.968944099378882\n",
      "Education : 3.6645962732919255\n",
      "Social Networking : 3.260869565217391\n",
      "Shopping : 2.608695652173913\n",
      "Utilities : 2.515527950310559\n",
      "Sports : 2.142857142857143\n",
      "Music : 2.049689440993789\n",
      "Health & Fitness : 2.018633540372671\n",
      "Productivity : 1.7391304347826086\n",
      "Lifestyle : 1.5838509316770186\n",
      "News : 1.3354037267080745\n",
      "Travel : 1.2422360248447204\n",
      "Finance : 1.1180124223602486\n",
      "Weather : 0.8695652173913043\n",
      "Food & Drink : 0.8074534161490683\n",
      "Reference : 0.5590062111801243\n",
      "Business : 0.5279503105590062\n",
      "Book : 0.43478260869565216\n",
      "Navigation : 0.18633540372670807\n",
      "Medical : 0.18633540372670807\n",
      "Catalogs : 0.12422360248447205\n"
     ]
    }
   ],
   "source": [
    "display_table(ios_final, -5) #prime_genre"
   ]
  },
  {
   "cell_type": "code",
   "execution_count": 22,
   "metadata": {
    "collapsed": false
   },
   "outputs": [
    {
     "name": "stdout",
     "output_type": "stream",
     "text": [
      "Business:  7491.117647058823\n",
      "Finance:  31467.944444444445\n",
      "Book:  39758.5\n",
      "Weather:  52279.892857142855\n",
      "News:  21248.023255813954\n",
      "Navigation:  86090.33333333333\n",
      "Reference:  74942.11111111111\n",
      "Social Networking:  43899.514285714286\n",
      "Entertainment:  14029.830708661417\n",
      "Education:  7003.983050847458\n",
      "Shopping:  26919.690476190477\n",
      "Health & Fitness:  23298.015384615384\n",
      "Medical:  612.0\n",
      "Sports:  23008.898550724636\n",
      "Food & Drink:  33333.92307692308\n",
      "Productivity:  21028.410714285714\n",
      "Travel:  28243.8\n",
      "Utilities:  18684.456790123455\n",
      "Lifestyle:  16485.764705882353\n",
      "Catalogs:  4004.0\n",
      "Games:  22788.6696905016\n",
      "Music:  57326.530303030304\n",
      "Photo & Video:  28441.54375\n"
     ]
    }
   ],
   "source": [
    "ios_genres = freq_table(ios_final, -5) #prime_genre\n",
    "\n",
    "for genre in ios_genres:\n",
    "    total = 0\n",
    "    len_genre = 0\n",
    "    \n",
    "    for app in ios_final:\n",
    "        genre_app = app[-5]\n",
    "        if genre_app == genre:\n",
    "            user_ratings = float(app[5])\n",
    "            total += user_ratings\n",
    "            len_genre += 1\n",
    "    avg_ratings = total / len_genre\n",
    "    print(genre + ': ', avg_ratings)"
   ]
  },
  {
   "cell_type": "code",
   "execution_count": 23,
   "metadata": {
    "collapsed": false
   },
   "outputs": [
    {
     "name": "stdout",
     "output_type": "stream",
     "text": [
      "HEALTH_AND_FITNESS:  4188821.9853479853\n",
      "FAMILY:  3695641.8198090694\n",
      "HOUSE_AND_HOME:  1331540.5616438356\n",
      "PHOTOGRAPHY:  17840110.40229885\n",
      "COMICS:  817657.2727272727\n",
      "SPORTS:  3638640.1428571427\n",
      "EDUCATION:  1833495.145631068\n",
      "DATING:  854028.8303030303\n",
      "EVENTS:  253542.22222222222\n",
      "BEAUTY:  513151.88679245283\n",
      "PARENTING:  542603.6206896552\n",
      "BOOKS_AND_REFERENCE:  8767811.894736841\n",
      "BUSINESS:  1712290.1474201474\n",
      "NEWS_AND_MAGAZINES:  9549178.467741935\n",
      "LIFESTYLE:  1437816.2687861272\n",
      "TOOLS:  10801391.298666667\n",
      "MAPS_AND_NAVIGATION:  4056941.7741935486\n",
      "FINANCE:  1387692.475609756\n",
      "AUTO_AND_VEHICLES:  647317.8170731707\n",
      "ART_AND_DESIGN:  1967474.5454545454\n",
      "FOOD_AND_DRINK:  1924897.7363636363\n",
      "SOCIAL:  23253652.127118643\n",
      "LIBRARIES_AND_DEMO:  638503.734939759\n",
      "COMMUNICATION:  38456119.167247385\n",
      "PERSONALIZATION:  5201482.6122448975\n",
      "MEDICAL:  120550.61980830671\n",
      "TRAVEL_AND_LOCAL:  13984077.710144928\n",
      "GAME:  15588015.603248259\n",
      "SHOPPING:  7036877.311557789\n",
      "ENTERTAINMENT:  11640705.88235294\n",
      "WEATHER:  5074486.197183099\n",
      "VIDEO_PLAYERS:  24727872.452830188\n",
      "PRODUCTIVITY:  16787331.344927534\n"
     ]
    }
   ],
   "source": [
    "android_categories = freq_table(android_final, 1) #category\n",
    "\n",
    "for category in android_categories:\n",
    "    total = 0\n",
    "    len_category = 0\n",
    "    \n",
    "    for app in android_final:\n",
    "        category_app = app[1]\n",
    "        if category_app == category:\n",
    "            num_install = app[5]\n",
    "            num_install = num_install.replace('+','')\n",
    "            num_install = num_install.replace(',','')\n",
    "            total += float(num_install)\n",
    "            len_category += 1\n",
    "    avg_num_install = total / len_category\n",
    "    print(category + ': ',avg_num_install)"
   ]
  },
  {
   "cell_type": "code",
   "execution_count": null,
   "metadata": {
    "collapsed": true
   },
   "outputs": [],
   "source": []
  }
 ],
 "metadata": {
  "kernelspec": {
   "display_name": "Python 3",
   "language": "python",
   "name": "python3"
  },
  "language_info": {
   "codemirror_mode": {
    "name": "ipython",
    "version": 3
   },
   "file_extension": ".py",
   "mimetype": "text/x-python",
   "name": "python",
   "nbconvert_exporter": "python",
   "pygments_lexer": "ipython3",
   "version": "3.4.3"
  }
 },
 "nbformat": 4,
 "nbformat_minor": 2
}
